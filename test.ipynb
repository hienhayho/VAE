{
 "cells": [
  {
   "cell_type": "code",
   "execution_count": 1,
   "metadata": {},
   "outputs": [],
   "source": [
    "import numpy as np\n",
    "from scipy.stats import norm\n",
    "import matplotlib.pyplot as plt\n",
    "from tqdm import tqdm"
   ]
  },
  {
   "cell_type": "code",
   "execution_count": 2,
   "metadata": {},
   "outputs": [],
   "source": [
    "def run_experiment(func):\n",
    "    invalid_p_values = 0\n",
    "    for _ in tqdm(range(1000000)):\n",
    "        p_value = func()\n",
    "        if p_value < 0.05:\n",
    "            invalid_p_values += 1\n",
    "    print(\"P_h0(p < 0.05) = \", invalid_p_values / 1000000)"
   ]
  },
  {
   "cell_type": "markdown",
   "metadata": {},
   "source": [
    "##### Basic"
   ]
  },
  {
   "cell_type": "code",
   "execution_count": 3,
   "metadata": {},
   "outputs": [],
   "source": [
    "def run_one_sample_fixed():\n",
    "    # generate synthetic data\n",
    "    mu = 0\n",
    "    std = 1  # standard deviation\n",
    "    x = np.random.normal(loc=mu, scale=1)\n",
    "\n",
    "    # we want to the following hypotheses\n",
    "    # H_0: mu = 0   vs.   H_1: mu != 0\n",
    "\n",
    "    # construct test-statistic\n",
    "    T = x\n",
    "\n",
    "    # compute two-sided p-value\n",
    "    cdf = norm.cdf(T, loc=0, scale=1)\n",
    "    p_value = 2 * min(cdf, 1 - cdf)\n",
    "\n",
    "    return p_value"
   ]
  },
  {
   "cell_type": "code",
   "execution_count": 16,
   "metadata": {},
   "outputs": [
    {
     "name": "stderr",
     "output_type": "stream",
     "text": [
      "100%|██████████| 1000000/1000000 [01:03<00:00, 15832.77it/s]"
     ]
    },
    {
     "name": "stdout",
     "output_type": "stream",
     "text": [
      "P_h0(p < 0.05) =  0.050221\n"
     ]
    },
    {
     "name": "stderr",
     "output_type": "stream",
     "text": [
      "\n"
     ]
    }
   ],
   "source": [
    "run_experiment(run_one_sample_fixed)"
   ]
  },
  {
   "cell_type": "markdown",
   "metadata": {},
   "source": [
    "##### Get Max and compute p_value"
   ]
  },
  {
   "cell_type": "code",
   "execution_count": 4,
   "metadata": {},
   "outputs": [],
   "source": [
    "def run_one_sample_max():\n",
    "    # generate synthetic data\n",
    "    mu = 0\n",
    "    std = 1  # standard deviation\n",
    "    x = np.random.normal(loc=mu, scale=std, size=3)\n",
    "    T = np.max(x)\n",
    "\n",
    "    # compute two-sided p-value\n",
    "    cdf = norm.cdf(T, loc=mu, scale=std)\n",
    "    p_value = 2 * min(cdf, 1 - cdf)\n",
    "\n",
    "    return p_value"
   ]
  },
  {
   "cell_type": "code",
   "execution_count": 17,
   "metadata": {},
   "outputs": [
    {
     "name": "stderr",
     "output_type": "stream",
     "text": [
      "100%|██████████| 1000000/1000000 [01:02<00:00, 15931.71it/s]"
     ]
    },
    {
     "name": "stdout",
     "output_type": "stream",
     "text": [
      "P_h0(p < 0.05) =  0.073762\n"
     ]
    },
    {
     "name": "stderr",
     "output_type": "stream",
     "text": [
      "\n"
     ]
    }
   ],
   "source": [
    "run_experiment(run_one_sample_max)"
   ]
  },
  {
   "cell_type": "markdown",
   "metadata": {},
   "source": [
    "##### Get max and compute p_value with satisfaction T(xj | j was chosen)"
   ]
  },
  {
   "cell_type": "code",
   "execution_count": 11,
   "metadata": {},
   "outputs": [],
   "source": [
    "def run_one_sample_max_has_chosen(n=3):\n",
    "    mu = 0\n",
    "    std = 1\n",
    "    num_each_idx = [0] * n\n",
    "    invalid_p_values = [0] * n\n",
    "    invalid_p_value = 0\n",
    "    for _ in tqdm(range(1000000)):\n",
    "        x = np.random.normal(loc=mu, scale=std, size=n)\n",
    "        max_idx = np.argmax(x)\n",
    "        num_each_idx[max_idx] += 1\n",
    "        T = x[max_idx]\n",
    "        cdf = norm.cdf(T, loc=mu, scale=std)\n",
    "        p_value = 2 * min(cdf, 1 - cdf)\n",
    "        if p_value < 0.05:\n",
    "            invalid_p_values[max_idx] += 1\n",
    "            invalid_p_value += 1\n",
    "    assert sum(num_each_idx) == 1000000\n",
    "    for i in range(n):\n",
    "        if num_each_idx[i] > 0:\n",
    "            print(\"P_h0(p < 0.05 | {} was chosen) = \".format(i), (invalid_p_values[i] / num_each_idx[i])/((invalid_p_value / 1000000)*(num_each_idx[i] / 1000000)))\n",
    "        else:\n",
    "            print(\"P_h0(p < 0.05 | {} was chosen) = 0 (no occurrences)\".format(i))\n",
    "    \n",
    "    "
   ]
  },
  {
   "cell_type": "code",
   "execution_count": 12,
   "metadata": {},
   "outputs": [
    {
     "name": "stderr",
     "output_type": "stream",
     "text": [
      "100%|██████████| 1000000/1000000 [01:01<00:00, 16274.84it/s]"
     ]
    },
    {
     "name": "stdout",
     "output_type": "stream",
     "text": [
      "P_h0(p < 0.05 | 0 was chosen) =  1.0010997068207135\n",
      "P_h0(p < 0.05 | 1 was chosen) =  0.9996104308064362\n",
      "P_h0(p < 0.05 | 2 was chosen) =  0.9992895713164998\n"
     ]
    },
    {
     "name": "stderr",
     "output_type": "stream",
     "text": [
      "\n"
     ]
    }
   ],
   "source": [
    "run_one_sample_max_has_chosen(n=3)"
   ]
  }
 ],
 "metadata": {
  "kernelspec": {
   "display_name": "env",
   "language": "python",
   "name": "python3"
  },
  "language_info": {
   "codemirror_mode": {
    "name": "ipython",
    "version": 3
   },
   "file_extension": ".py",
   "mimetype": "text/x-python",
   "name": "python",
   "nbconvert_exporter": "python",
   "pygments_lexer": "ipython3",
   "version": "3.10.12"
  }
 },
 "nbformat": 4,
 "nbformat_minor": 2
}
